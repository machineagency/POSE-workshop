{
 "cells": [
  {
   "cell_type": "markdown",
   "id": "14aef155",
   "metadata": {},
   "source": [
    "# 3D printing with Jubilee\n",
    "Let's start by initiating communication with the machine and define the gel extruder(s)."
   ]
  },
  {
   "cell_type": "code",
   "execution_count": 2,
   "metadata": {},
   "outputs": [],
   "source": [
    "from science_jubilee.Machine import Machine\n",
    "from science_jubilee.tools.Tool import Tool\n",
    "from science_jubilee.tools.SyringeExtruder import SyringeExtruder"
   ]
  },
  {
   "cell_type": "code",
   "execution_count": 3,
   "metadata": {},
   "outputs": [
    {
     "name": "stderr",
     "output_type": "stream",
     "text": [
      "/Users/danliluo/HCDE/Dubilee/science_jubilee/science_jubilee/Machine.py:332: UserWarning: Connection initiated with tool equipped. Use reload_tool() after instantiate this tool.\n",
      "  warnings.warn(\"Connection initiated with tool equipped. Use reload_tool() after instantiate this tool.\")\n"
     ]
    },
    {
     "data": {
      "text/plain": [
       "<science_jubilee.Machine.Machine at 0x7f98f097e700>"
      ]
     },
     "execution_count": 3,
     "metadata": {},
     "output_type": "execute_result"
    }
   ],
   "source": [
    "m = Machine(address = \"192.168.1.2\")\n",
    "m"
   ]
  },
  {
   "cell_type": "markdown",
   "id": "b0ef310a",
   "metadata": {},
   "source": [
    "The first thing you do is to home the machine!"
   ]
  },
  {
   "cell_type": "code",
   "execution_count": null,
   "metadata": {},
   "outputs": [],
   "source": [
    "m.home_all()"
   ]
  },
  {
   "cell_type": "markdown",
   "id": "9ca64d11",
   "metadata": {},
   "source": [
    "Homing could take a minute. Now, define and load tool(s)."
   ]
  },
  {
   "cell_type": "code",
   "execution_count": 5,
   "metadata": {},
   "outputs": [
    {
     "data": {
      "text/plain": [
       "{0: {'name': 'white syringe',\n",
       "  'tool': <science_jubilee.tools.SyringeExtruder.SyringeExtruder at 0x7f98f0987370>},\n",
       " 1: {'name': 'orange syringe',\n",
       "  'tool': <science_jubilee.tools.SyringeExtruder.SyringeExtruder at 0x7f98f09878b0>}}"
      ]
     },
     "execution_count": 5,
     "metadata": {},
     "output_type": "execute_result"
    }
   ],
   "source": [
    "syringe_0 = SyringeExtruder(0, \"white syringe\")\n",
    "syringe_1 = SyringeExtruder(1, \"orange syringe\")\n",
    "m.reload_tool(syringe_0) # if you reinitiate a tool, use reload_tool instead of load_tool\n",
    "m.load_tool(syringe_1)\n",
    "m.tools"
   ]
  },
  {
   "cell_type": "markdown",
   "id": "a179aba6",
   "metadata": {},
   "source": [
    "3D printing fine structure is very sensitive to the z offset. Z offset changes with the nozzle you're using, the length of the syringe, etc. Now we need to zero the nozzle tip and update the z offset.\n",
    "\n",
    "First, pick up the tool you'd like to calibrate."
   ]
  },
  {
   "cell_type": "code",
   "execution_count": 6,
   "id": "ebb22a8c",
   "metadata": {},
   "outputs": [],
   "source": [
    "m.pickup_tool(0)"
   ]
  },
  {
   "cell_type": "markdown",
   "id": "f413382e",
   "metadata": {},
   "source": [
    "The z offset on startup is an overshoot to prevent tool crashing. Let's move to the current `Z = 0`."
   ]
  },
  {
   "cell_type": "code",
   "execution_count": 7,
   "id": "db4a0cb4",
   "metadata": {},
   "outputs": [],
   "source": [
    "m.move_to(z = 0)"
   ]
  },
  {
   "cell_type": "markdown",
   "id": "6ada4b7d",
   "metadata": {},
   "source": [
    "Science Jubilee would prevent you from going further! Use the method `approach` inside `SyringeExtruder` to bring the tip of the syringe extruder into contact with the print bed. The z offset is automatically updated with `approach` as you do so."
   ]
  },
  {
   "cell_type": "code",
   "execution_count": 29,
   "id": "36f04d43",
   "metadata": {},
   "outputs": [
    {
     "name": "stdout",
     "output_type": "stream",
     "text": [
      "-26.31\n"
     ]
    }
   ],
   "source": [
    "syringe_0.approach(-0.01) # you may need to approach many times to get the right position\n",
    "print(m.tool_z_offsets[0])"
   ]
  },
  {
   "cell_type": "markdown",
   "id": "ead19b1f",
   "metadata": {},
   "source": [
    "If it says `\"MachineStateError: Error: Relative move exceeds Z axis limit!\"`, temporarily update the z offset to allow the nozzle to go lower. "
   ]
  },
  {
   "cell_type": "markdown",
   "id": "641e9d57",
   "metadata": {},
   "source": [
    "Before loading your slicer-generated gcode file, it's a good practice to prime the nozzle - extrude a little bit of material so that the nozzle is filled and ready to print.\n",
    "\n",
    "Noted that the parameter of `extrude` is the length of the filament, i.e. the actual plunger movement. "
   ]
  },
  {
   "cell_type": "code",
   "execution_count": null,
   "id": "53a89f93",
   "metadata": {},
   "outputs": [],
   "source": [
    "m.move(dz = 25) # move the nozzle up if it's too close to the bed\n",
    "syringe_0.extrude(0.1) # you may need to extrude many times. An empty tapered nozzle needs ~1.5 to fill up"
   ]
  },
  {
   "cell_type": "markdown",
   "id": "15edf48b",
   "metadata": {},
   "source": [
    "Helper functions to load gcode and print gcode:"
   ]
  },
  {
   "cell_type": "code",
   "execution_count": null,
   "id": "d1dd544e",
   "metadata": {},
   "outputs": [],
   "source": [
    "# load the .gcode file and parse\n",
    "def load_gcode(file_path):\n",
    "    try:\n",
    "        lines = []\n",
    "        with open(file_path, 'r') as file:\n",
    "            for line in file:\n",
    "                lines.append(line.strip())\n",
    "        return lines\n",
    "    except FileNotFoundError:\n",
    "        print(f\"File '{file_path}' not found.\")\n",
    "        return None\n",
    "    except Exception as e:\n",
    "        print(f\"An error occurred: {e}\")\n",
    "        return None\n",
    "    \n",
    "def print_gcode(gcode):\n",
    "    for line in gcode:\n",
    "        if len(line) > 0:\n",
    "            if not line.startswith(';'):\n",
    "                print(line)\n",
    "                m.gcode(line)\n"
   ]
  },
  {
   "cell_type": "code",
   "execution_count": null,
   "id": "135ee2e0",
   "metadata": {},
   "outputs": [],
   "source": [
    "gcode = load_gcode(\"cylinder-20mm.gcode\")\n",
    "print_gcode(gcode)"
   ]
  },
  {
   "cell_type": "code",
   "execution_count": 31,
   "metadata": {},
   "outputs": [],
   "source": [
    "m.park_tool()"
   ]
  }
 ],
 "metadata": {
  "kernelspec": {
   "display_name": ".venv",
   "language": "python",
   "name": "python3"
  },
  "language_info": {
   "codemirror_mode": {
    "name": "ipython",
    "version": 3
   },
   "file_extension": ".py",
   "mimetype": "text/x-python",
   "name": "python",
   "nbconvert_exporter": "python",
   "pygments_lexer": "ipython3",
   "version": "3.8.5"
  }
 },
 "nbformat": 4,
 "nbformat_minor": 5
}
