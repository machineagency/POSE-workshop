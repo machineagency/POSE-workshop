{
 "cells": [
  {
   "cell_type": "markdown",
   "id": "14aef155",
   "metadata": {},
   "source": [
    "# 3D printing with Jubilee\n",
    "Let's start by initiating communication with the machine and define the gel extruder(s)."
   ]
  },
  {
   "cell_type": "code",
   "execution_count": 1,
   "id": "27814519",
   "metadata": {
    "tags": []
   },
   "outputs": [],
   "source": [
    "%load_ext autoreload\n",
    "%autoreload 2\n",
    "from science_jubilee.Machine import Machine\n",
    "from science_jubilee.tools.Tool import Tool\n",
    "from science_jubilee.tools.SyringeExtruder import SyringeExtruder\n",
    "from science_jubilee.tools.Camera import Camera"
   ]
  },
  {
   "cell_type": "code",
   "execution_count": 2,
   "id": "3dbe270e",
   "metadata": {
    "tags": []
   },
   "outputs": [
    {
     "name": "stdout",
     "output_type": "stream",
     "text": [
      "Warning: disconnecting this application from the network will halt connection to Jubilee.\n"
     ]
    },
    {
     "name": "stderr",
     "output_type": "stream",
     "text": [
      "/home/pi/POSE/science_jubilee/science_jubilee/Machine.py:332: UserWarning: Connection initiated with tool equipped. Use reload_tool() after instantiate this tool.\n",
      "  warnings.warn(\"Connection initiated with tool equipped. Use reload_tool() after instantiate this tool.\")\n"
     ]
    }
   ],
   "source": [
    "m = Machine(address = \"jubilee.local\")"
   ]
  },
  {
   "cell_type": "markdown",
   "id": "b0ef310a",
   "metadata": {},
   "source": [
    "The first thing you do is to home the machine!"
   ]
  },
  {
   "cell_type": "code",
   "execution_count": null,
   "id": "5ec81f1f",
   "metadata": {},
   "outputs": [],
   "source": [
    "m.home_all()"
   ]
  },
  {
   "cell_type": "markdown",
   "id": "9ca64d11",
   "metadata": {},
   "source": [
    "Homing could take a minute. Now, define and load tool(s)."
   ]
  },
  {
   "cell_type": "code",
   "execution_count": null,
   "id": "97a7576e",
   "metadata": {},
   "outputs": [],
   "source": [
    "# Change your tool numbers to match your machine!\n",
    "syringe_0 = SyringeExtruder(0, \"white syringe\")\n",
    "syringe_1 = SyringeExtruder(1, \"orange syringe\")\n",
    "m.reload_tool(syringe_0) # if you reinitiate a tool, use reload_tool instead of load_tool\n",
    "m.load_tool(syringe_1)\n",
    "m.tools"
   ]
  },
  {
   "cell_type": "markdown",
   "id": "a179aba6",
   "metadata": {},
   "source": [
    "3D printing fine structure is very sensitive to the z offset. Z offset changes with the nozzle you're using, the length of the syringe, etc. Now we need to zero the nozzle tip and update the z offset.\n",
    "\n",
    "First, pick up the tool you'd like to calibrate."
   ]
  },
  {
   "cell_type": "code",
   "execution_count": null,
   "id": "ebb22a8c",
   "metadata": {},
   "outputs": [],
   "source": [
    "m.pickup_tool(0)"
   ]
  },
  {
   "cell_type": "markdown",
   "id": "f413382e",
   "metadata": {},
   "source": [
    "The z offset on startup is an overshoot to prevent tool crashing. Let's move to the current `Z = 0`."
   ]
  },
  {
   "cell_type": "code",
   "execution_count": null,
   "id": "db4a0cb4",
   "metadata": {},
   "outputs": [],
   "source": [
    "m.move_to(z = 0)"
   ]
  },
  {
   "cell_type": "markdown",
   "id": "6ada4b7d",
   "metadata": {},
   "source": [
    "Science Jubilee would prevent you from going further! Use the method `approach` inside `SyringeExtruder` to bring the tip of the syringe extruder into contact with the print bed. The z offset is automatically updated with `approach` as you do so."
   ]
  },
  {
   "cell_type": "code",
   "execution_count": null,
   "id": "36f04d43",
   "metadata": {},
   "outputs": [],
   "source": [
    "syringe_0.approach(-0.01) # you may need to approach many times to get the right position\n",
    "print(m.tool_z_offsets[0])"
   ]
  },
  {
   "cell_type": "markdown",
   "id": "ead19b1f",
   "metadata": {},
   "source": [
    "If it says `\"MachineStateError: Error: Relative move exceeds Z axis limit!\"`, temporarily update the z offset to allow the nozzle to go lower. "
   ]
  },
  {
   "cell_type": "markdown",
   "id": "641e9d57",
   "metadata": {},
   "source": [
    "Before loading your slicer-generated gcode file, it's a good practice to prime the nozzle - extrude a little bit of material so that the nozzle is filled and ready to print.\n",
    "\n",
    "Noted that the parameter of `extrude` is the length of the filament, i.e. the actual plunger movement. "
   ]
  },
  {
   "cell_type": "code",
   "execution_count": null,
   "id": "53a89f93",
   "metadata": {},
   "outputs": [],
   "source": [
    "m.move(dz = 25) # move the nozzle up if it's too close to the bed\n",
    "syringe_0.extrude(0.1) # you may need to extrude many times. An empty tapered nozzle needs ~1.5 to fill up"
   ]
  },
  {
   "cell_type": "markdown",
   "id": "15edf48b",
   "metadata": {},
   "source": [
    "Helper functions to load gcode and print gcode:"
   ]
  },
  {
   "cell_type": "code",
   "execution_count": null,
   "id": "d1dd544e",
   "metadata": {},
   "outputs": [],
   "source": [
    "# load the .gcode file and parse\n",
    "def load_gcode(file_path):\n",
    "    try:\n",
    "        lines = []\n",
    "        with open(file_path, 'r') as file:\n",
    "            for line in file:\n",
    "                lines.append(line.strip())\n",
    "        return lines\n",
    "    except FileNotFoundError:\n",
    "        print(f\"File '{file_path}' not found.\")\n",
    "        return None\n",
    "    except Exception as e:\n",
    "        print(f\"An error occurred: {e}\")\n",
    "        return None\n",
    "    \n",
    "def print_gcode(gcode):\n",
    "    for line in gcode:\n",
    "        if len(line) > 0:\n",
    "            if not line.startswith(';'):\n",
    "                print(line)\n",
    "                m.gcode(line)\n"
   ]
  },
  {
   "cell_type": "code",
   "execution_count": null,
   "id": "135ee2e0",
   "metadata": {},
   "outputs": [],
   "source": [
    "gcode = load_gcode(\"cylinder-20mm.gcode\")\n",
    "print_gcode(gcode)"
   ]
  },
  {
   "cell_type": "code",
   "execution_count": null,
   "id": "49f9d8a2",
   "metadata": {},
   "outputs": [],
   "source": [
    "m.park_tool()"
   ]
  },
  {
   "cell_type": "code",
   "execution_count": null,
   "id": "cd5326be-4764-4412-a3d0-ecaabe45ea29",
   "metadata": {},
   "outputs": [],
   "source": []
  },
  {
   "cell_type": "code",
   "execution_count": null,
   "id": "532044da-7f3d-484f-8731-c7c9e48ed64a",
   "metadata": {
    "tags": []
   },
   "outputs": [],
   "source": [
    "## Testing images after each layer"
   ]
  },
  {
   "cell_type": "code",
   "execution_count": 4,
   "id": "18d2c796-46a4-4587-bfe8-16d697f7a57d",
   "metadata": {
    "tags": []
   },
   "outputs": [],
   "source": [
    "camera = Camera(2, 'camera')\n",
    "m.reload_tool(cam)\n",
    "\n",
    "syringe = SyringeExtruder(1, 'extruder1', config=\"10cc_syringe\")\n",
    "m.load_tool(syringe)"
   ]
  },
  {
   "cell_type": "code",
   "execution_count": null,
   "id": "25a499f3-369c-4393-8a9a-02f934d0a0b7",
   "metadata": {},
   "outputs": [],
   "source": [
    "m.pickup_tool(camera)"
   ]
  },
  {
   "cell_type": "code",
   "execution_count": null,
   "id": "90ec8961-622e-42f0-98f7-ff0f5d18829c",
   "metadata": {
    "tags": []
   },
   "outputs": [],
   "source": [
    "m.move_to(x=100, y=100) "
   ]
  },
  {
   "cell_type": "code",
   "execution_count": 7,
   "id": "b47d6d0a-d445-4703-a904-0977b7e44a0e",
   "metadata": {},
   "outputs": [],
   "source": [
    "f = cam.get_frame()\n",
    "cam.show_frame(f, grid=True)"
   ]
  },
  {
   "cell_type": "code",
   "execution_count": null,
   "id": "0703516d-d030-4292-9973-73bdb54e89de",
   "metadata": {
    "tags": []
   },
   "outputs": [],
   "source": [
    "# try a nonplanar cube\n",
    "z = 0.2\n",
    "z_off = 0\n",
    "start_x = 220\n",
    "start_y = 220\n",
    "side_length = 20\n",
    "m.move_to(x=start_x, y=start_y, z=0.1)\n",
    "for layer in range(10):\n",
    "    syringe.move_extrude(x = start_x + side_length, y = start_y, z = z, multiplier = 2)\n",
    "    syringe.move_extrude(x = start_x + side_length, y = start_y - side_length, z = z + z_off, multiplier = 3)\n",
    "    syringe.move_extrude(x = start_x, y = start_y - side_length, z = z + z_off, multiplier = 2)\n",
    "    syringe.move_extrude(x = start_x, y =start_y, z = z, multiplier = 3)\n",
    "    z += 0.2\n",
    "    z_off += 0.1"
   ]
  },
  {
   "cell_type": "code",
   "execution_count": null,
   "id": "0d12b9ca-9223-4272-a6a9-7364789ec23f",
   "metadata": {
    "tags": []
   },
   "outputs": [],
   "source": [
    "## try wavy print\n",
    "import math\n",
    "import numpy as np\n",
    "def normalize(v):\n",
    "    norm = np.linalg.norm(v)\n",
    "    if norm == 0:\n",
    "        return v\n",
    "    return v / norm\n",
    "\n",
    "def make_wave(point, center, theta, phase):\n",
    "    amplitude = 1\n",
    "    frequency = 6\n",
    "    \n",
    "    # get unit vector in direction of current point from center\n",
    "    point_arr = np.array(point)\n",
    "    center_arr = np.array(center)\n",
    "    direction = normalize(np.subtract(point_arr, center_arr))\n",
    "    \n",
    "    # push the point in this direction by an amt determined by current angle\n",
    "    sine_off_mag = amplitude * math.sin(frequency * theta + phase)\n",
    "    sine_off = np.multiply(sine_off_mag, direction)\n",
    "    offset_point = np.add(point, sine_off)\n",
    "    \n",
    "    return offset_point"
   ]
  },
  {
   "cell_type": "code",
   "execution_count": null,
   "id": "1ebe4d29-9ec2-4b03-acba-1c1dd22d182b",
   "metadata": {
    "tags": []
   },
   "outputs": [],
   "source": [
    "%matplotlib inline\n",
    "z = 0.1\n",
    "theta = 0\n",
    "center_x = 230\n",
    "center_y = 210\n",
    "center = [center_x, center_y]\n",
    "radius = 10\n",
    "theta_step = 2 * math.pi / 50\n",
    "phase = 0\n",
    "\n",
    "m.move_to(x=center_x, y=center_y)\n",
    "while z < 20:\n",
    "    m.pickup_tool(syringe)\n",
    "    m.move_to(x=center_x, y=center_y)\n",
    "    while theta < 2 * math.pi:\n",
    "        point = [radius * math.cos(theta) + center_x, radius * math.sin(theta) + center_y]\n",
    "        wave_point = make_wave(point, center, theta, phase)\n",
    "        if theta==0:\n",
    "            m.move_to(x = wave_point[0], y = wave_point[1], z = z)\n",
    "        else:\n",
    "            syringe.move_extrude(x = wave_point[0], y = wave_point[1], z = z, multiplier = 3)\n",
    "        theta += theta_step\n",
    "    z += 0.4\n",
    "    phase += math.pi/2\n",
    "    theta = 0\n",
    "    \n",
    "    # now take an image\n",
    "    m.move_to(z=20)\n",
    "    m.pickup_tool(cam)\n",
    "    m.move_to(z=30+z) # focus height above top of print\n",
    "    m.move_to(x=230, y=170) # need to do xy alignment\n",
    "    frame = cam.get_frame()\n",
    "    cam.show_frame(frame, save=True, save_path=f'/home/pi/syringe_z{z}.jpg')\n",
    "    "
   ]
  },
  {
   "cell_type": "code",
   "execution_count": null,
   "id": "d4cfd39e-6ea3-4ec1-a8ea-de987013bfe1",
   "metadata": {
    "tags": []
   },
   "outputs": [],
   "source": [
    "cam.video_stream()"
   ]
  },
  {
   "cell_type": "code",
   "execution_count": null,
   "id": "4da9b84a-363c-4fab-9783-50fbb6359e2d",
   "metadata": {
    "tags": []
   },
   "outputs": [],
   "source": [
    "frame = cam.get_frame()\n",
    "cam.show_frame(frame, save=True, save_path=f'/home/pi/syringe_z{z}.jpg')"
   ]
  },
  {
   "cell_type": "code",
   "execution_count": null,
   "id": "ecf09bc9-bbb6-4e21-928f-20570660ff2b",
   "metadata": {},
   "outputs": [],
   "source": []
  }
 ],
 "metadata": {
  "kernelspec": {
   "display_name": "POSE-dev",
   "language": "python",
   "name": "pose-dev"
  },
  "language_info": {
   "codemirror_mode": {
    "name": "ipython",
    "version": 3
   },
   "file_extension": ".py",
   "mimetype": "text/x-python",
   "name": "python",
   "nbconvert_exporter": "python",
   "pygments_lexer": "ipython3",
   "version": "3.7.3"
  }
 },
 "nbformat": 4,
 "nbformat_minor": 5
}
