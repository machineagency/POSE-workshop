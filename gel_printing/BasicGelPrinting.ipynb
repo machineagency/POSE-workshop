{
 "cells": [
  {
   "cell_type": "markdown",
   "id": "14aef155",
   "metadata": {},
   "source": [
    "# 3D printing with Jubilee\n",
    "Let's start by initiating communication with the machine and define the gel extruder(s)."
   ]
  },
  {
   "cell_type": "code",
   "execution_count": null,
   "id": "27814519",
   "metadata": {
    "tags": []
   },
   "outputs": [],
   "source": [
    "from science_jubilee.Machine import Machine\n",
    "from science_jubilee.tools.Tool import Tool\n",
    "from science_jubilee.tools.SyringeExtruder import SyringeExtruder\n",
    "from science_jubilee.tools.Camera import Camera"
   ]
  },
  {
   "cell_type": "code",
   "execution_count": null,
   "id": "3dbe270e",
   "metadata": {
    "tags": []
   },
   "outputs": [],
   "source": [
    "m = Machine(address = \"jubilee.local\")"
   ]
  },
  {
   "cell_type": "markdown",
   "id": "b0ef310a",
   "metadata": {},
   "source": [
    "The first thing you do is to home the machine, if you need to! Make sure the build plate is clear."
   ]
  },
  {
   "cell_type": "code",
   "execution_count": null,
   "id": "5ec81f1f",
   "metadata": {},
   "outputs": [],
   "source": [
    "m.home_all()"
   ]
  },
  {
   "cell_type": "markdown",
   "id": "9ca64d11",
   "metadata": {},
   "source": [
    "Homing could take a minute. Now, define and load tool(s)."
   ]
  },
  {
   "cell_type": "code",
   "execution_count": null,
   "id": "97a7576e",
   "metadata": {
    "tags": []
   },
   "outputs": [],
   "source": [
    "# Change your tool numbers to match your machine!\n",
    "syringe_0 = SyringeExtruder(index = 1, name = \"syr1\", config = \"10cc_syringe\")\n",
    "syringe_1 = SyringeExtruder(index = 3, name = \"syr2\", config = \"10cc_syringe\")\n",
    "m.load_tool(syringe_0) # if you reinitiate a tool, use reload_tool instead of load_tool\n",
    "m.load_tool(syringe_1)"
   ]
  },
  {
   "cell_type": "markdown",
   "id": "a179aba6",
   "metadata": {},
   "source": [
    "3D printing fine structure is very sensitive to the z offset. Z offset changes with the nozzle you're using, the length of the syringe, etc. Now we need to zero the nozzle tip and update the z offset.\n",
    "\n",
    "First, pick up the tool you'd like to calibrate."
   ]
  },
  {
   "cell_type": "code",
   "execution_count": null,
   "id": "ebb22a8c",
   "metadata": {
    "tags": []
   },
   "outputs": [],
   "source": [
    "m.pickup_tool(syringe_0)"
   ]
  },
  {
   "cell_type": "markdown",
   "id": "f413382e",
   "metadata": {},
   "source": [
    "The z offset on startup should be slightly higher than the actual z offset, this is to avoid collisions with the bed. You can read more on it on the [Jubilee wiki](https://jubilee3d.com/index.php?title=Setting_Tool_Offsets).\n",
    "Let's move to the current `Z = 0`."
   ]
  },
  {
   "cell_type": "code",
   "execution_count": null,
   "id": "db4a0cb4",
   "metadata": {
    "tags": []
   },
   "outputs": [],
   "source": [
    "m.move_to(z = 0)"
   ]
  },
  {
   "cell_type": "markdown",
   "id": "6ada4b7d",
   "metadata": {},
   "source": [
    "Bring the tip of the syringe extruder into contact with the print bed by gradually decreasing the z value. Don't overshoot or you'll crash into the syringe!\n",
    "\n",
    "You can use the control panel in the DuetWebControl interface to do this if you like"
   ]
  },
  {
   "cell_type": "code",
   "execution_count": null,
   "id": "fd1fd95f-a2da-41c8-80d9-9c986bc85afd",
   "metadata": {
    "tags": []
   },
   "outputs": [],
   "source": [
    "z_offset = -1.5 # slowly make this a bigger negative number, or use the duet web control panel\n",
    "m.move_to(z = z_offset)"
   ]
  },
  {
   "cell_type": "markdown",
   "id": "274f4188-70c3-46e5-bf63-07f25fe09702",
   "metadata": {},
   "source": [
    "We'll update the tool's z offset so that the 0 position is where you currently moved to. Note that everytime the mainboard restarts, it reads the config on the Duet board, which has the more conservative tool offset. \n",
    "\n",
    "\n",
    "Instead of changing the offset permanently, we'll temporarily change it until we restart the machine again. So, we should go through this process each time we add a new syringe tip."
   ]
  },
  {
   "cell_type": "code",
   "execution_count": null,
   "id": "1dada6f4-0112-4d72-8a8a-07480ef9beae",
   "metadata": {
    "tags": []
   },
   "outputs": [],
   "source": [
    "starting_offset = m.tool_z_offsets[m.active_tool_index] # this is the default value for this tool\n",
    "real_z_position = float(m.get_position()[\"Z\"])          # this is our current z position after calibration\n",
    "new_z_offset = starting_offset - real_z_position         # subtract the two to get the update z offset value\n",
    "\n",
    "# Update the tool offset\n",
    "m.set_tool_offset(tool_idx = m.active_tool_index, z = new_z_offset)"
   ]
  },
  {
   "cell_type": "code",
   "execution_count": null,
   "id": "9dfa5bbe-db3e-4fca-a625-a54507b93a60",
   "metadata": {
    "tags": []
   },
   "outputs": [],
   "source": [
    "# Our current z position should now be 0!\n",
    "m.get_position()['Z']"
   ]
  },
  {
   "cell_type": "markdown",
   "id": "641e9d57",
   "metadata": {},
   "source": [
    "Before loading your slicer-generated gcode file, it's a good practice to prime the nozzle - extrude a little bit of material so that the nozzle is filled and ready to print.\n",
    "\n",
    "Noted that the parameter of `move_extrude` is the length of the filament, i.e. the actual plunger movement. "
   ]
  },
  {
   "cell_type": "code",
   "execution_count": null,
   "id": "53a89f93",
   "metadata": {
    "tags": []
   },
   "outputs": [],
   "source": [
    "m.move_to(z = 25) # move the bed away if it's too close to the nozzle\n",
    "syringe_0.move_extrude(e=1) # you may need to extrude many times. An empty tapered nozzle needs ~1.5 to fill up"
   ]
  },
  {
   "cell_type": "markdown",
   "id": "15edf48b",
   "metadata": {},
   "source": [
    "Helper functions to load gcode and print gcode:"
   ]
  },
  {
   "cell_type": "code",
   "execution_count": null,
   "id": "d1dd544e",
   "metadata": {},
   "outputs": [],
   "source": [
    "# load the .gcode file and parse\n",
    "def load_gcode(file_path):\n",
    "    try:\n",
    "        lines = []\n",
    "        with open(file_path, 'r') as file:\n",
    "            for line in file:\n",
    "                lines.append(line.strip())\n",
    "        return lines\n",
    "    except FileNotFoundError:\n",
    "        print(f\"File '{file_path}' not found.\")\n",
    "        return None\n",
    "    except Exception as e:\n",
    "        print(f\"An error occurred: {e}\")\n",
    "        return None\n",
    "    \n",
    "def print_gcode(gcode):\n",
    "    for line in gcode:\n",
    "        if len(line) > 0:\n",
    "            if not line.startswith(';'):\n",
    "                print(line)\n",
    "                m.gcode(line)\n"
   ]
  },
  {
   "cell_type": "code",
   "execution_count": null,
   "id": "135ee2e0",
   "metadata": {},
   "outputs": [],
   "source": [
    "gcode = load_gcode(\"cylinder-20mm.gcode\")\n",
    "print_gcode(gcode)"
   ]
  },
  {
   "cell_type": "code",
   "execution_count": null,
   "id": "49f9d8a2",
   "metadata": {},
   "outputs": [],
   "source": [
    "m.park_tool()"
   ]
  },
  {
   "cell_type": "markdown",
   "id": "eeb289e2-f496-4d99-a9a9-8ebe76300168",
   "metadata": {},
   "source": [
    "## More 3D Printing Options!\n",
    "With the syringe extruder tool, we can also directly specify simple toolpaths to print; this might be useful if you want to directly extrude in a particular location, or print non-planar things. \n",
    "\n",
    "Here we'll print this little non-planar test cube:"
   ]
  },
  {
   "cell_type": "code",
   "execution_count": null,
   "id": "c6e0d8fb-a7b8-4a45-b94b-e5f8ed29df94",
   "metadata": {
    "tags": []
   },
   "outputs": [],
   "source": [
    "# Pick up your syringe\n",
    "m.pickup_tool(syringe_0)"
   ]
  },
  {
   "cell_type": "code",
   "execution_count": null,
   "id": "0703516d-d030-4292-9973-73bdb54e89de",
   "metadata": {
    "tags": []
   },
   "outputs": [],
   "source": [
    "# Set up some printing parameters\n",
    "# change these if you'd like!\n",
    "z = 0              # starting z value\n",
    "layer_height = 0.2 \n",
    "z_off = 0          # how much to offset one corner\n",
    "start_x = 220      # x start position\n",
    "start_y = 220      # y start position\n",
    "side_length = 20   # side length of the cube\n",
    "\n",
    "m.move_to(x=start_x, y=start_y, z=z)\n",
    "\n",
    "\n",
    "# the move_extrude command will extrude gel from the current position to the specified position\n",
    "# you can edit the extrusion multiplier if you'd like more/less gel extruded\n",
    "for layer in range(10):\n",
    "    syringe_0.move_extrude(x = start_x + side_length, y = start_y, z = z, multiplier = 1)\n",
    "    syringe_0.move_extrude(x = start_x + side_length, y = start_y - side_length, z = z + z_off, multiplier = 1)\n",
    "    syringe_0.move_extrude(x = start_x, y = start_y - side_length, z = z + z_off, multiplier = 1)\n",
    "    syringe_0.move_extrude(x = start_x, y =start_y, z = z, multiplier = 1)\n",
    "    z += layer_height\n",
    "    z_off += 0.1"
   ]
  },
  {
   "cell_type": "code",
   "execution_count": null,
   "id": "c828b281-c9b6-45f2-aa44-7c7cfc558ba1",
   "metadata": {},
   "outputs": [],
   "source": []
  }
 ],
 "metadata": {
  "kernelspec": {
   "display_name": "POSE-dev",
   "language": "python",
   "name": "pose-dev"
  },
  "language_info": {
   "codemirror_mode": {
    "name": "ipython",
    "version": 3
   },
   "file_extension": ".py",
   "mimetype": "text/x-python",
   "name": "python",
   "nbconvert_exporter": "python",
   "pygments_lexer": "ipython3",
   "version": "3.7.3"
  }
 },
 "nbformat": 4,
 "nbformat_minor": 5
}
