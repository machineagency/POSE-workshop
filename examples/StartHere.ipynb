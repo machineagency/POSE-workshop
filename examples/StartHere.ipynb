{
 "cells": [
  {
   "cell_type": "markdown",
   "id": "470a16dd-7d37-4838-88f7-53aea3aafcf8",
   "metadata": {},
   "source": [
    "# Connecting to the Machine!\n",
    "This notebook shows you how to connect to the machine, and provides a bit of background on Jupyter notebooks"
   ]
  },
  {
   "cell_type": "markdown",
   "id": "211e0cd6-38ee-468f-82b9-99c53aed42bc",
   "metadata": {
    "tags": []
   },
   "source": [
    "## Step 0: Jupyter Overview\n",
    "Here's a little overview of how a Jupyter notebook works, in case you've never used one or need a reminder. Feel free to jump ahead to Step 1."
   ]
  },
  {
   "cell_type": "code",
   "execution_count": null,
   "id": "3affaca3-6aef-4747-a53d-f7907211be19",
   "metadata": {},
   "outputs": [],
   "source": [
    "# You can run a Jupyter notebook cell with Shift + Enter"
   ]
  },
  {
   "cell_type": "code",
   "execution_count": null,
   "id": "dcf4a4bc-3032-4281-80d3-9105c6d40a53",
   "metadata": {},
   "outputs": [],
   "source": [
    "# You'll see a number appear to the left hand side of the cell after running it; \n",
    "# this is the order that cells have been exectued in."
   ]
  },
  {
   "cell_type": "code",
   "execution_count": null,
   "id": "f9e2a9df-f244-4409-bd4d-b8da3b7dbdf1",
   "metadata": {},
   "outputs": [],
   "source": [
    "# If there's any result to show, it will print below the cell being executed\n",
    "test = 'Welcome to Seattle!'\n",
    "test"
   ]
  },
  {
   "cell_type": "code",
   "execution_count": null,
   "id": "a27f1b57-4bf6-472f-83b6-3337b19cd57b",
   "metadata": {},
   "outputs": [],
   "source": [
    "# The output will also show error messages\n",
    "bad_variable"
   ]
  },
  {
   "cell_type": "code",
   "execution_count": null,
   "id": "ae229f69-29e3-4540-b84e-357b3313ea4a",
   "metadata": {},
   "outputs": [],
   "source": [
    "# A cell currently being run will show a '*' instead of a number\n",
    "# You can't run another cell until the current cell finishes running\n",
    "# You can stop a cell's execution by pressing the stop icon in the toolbar at the top of this page\n",
    "# Or press 'i' twice\n",
    "import time\n",
    "for wait in range(10):\n",
    "    time.sleep(10)\n",
    "    # You should see a '*' to the left\n",
    "    # Stop the cell to proceed quicker!"
   ]
  },
  {
   "cell_type": "code",
   "execution_count": null,
   "id": "bfe26c4d-8744-40b1-b0c8-999a23270994",
   "metadata": {},
   "outputs": [],
   "source": [
    "# If these big red rectangles are annoying you, \n",
    "# you can right click and select 'Clear Outputs' to clear a single cell output\n",
    "# or 'Clear All Outputs to clean up the whole notebook"
   ]
  },
  {
   "cell_type": "code",
   "execution_count": null,
   "id": "48b7ff45-abbd-45cf-b29b-70bb4ff8e6b2",
   "metadata": {},
   "outputs": [],
   "source": [
    "# You can also add a new cell below this one using the '+' button\n",
    "# or delete one by right clicking and pressing delete"
   ]
  },
  {
   "cell_type": "code",
   "execution_count": null,
   "id": "23440f53-d238-462c-aafa-5669ac933db5",
   "metadata": {},
   "outputs": [],
   "source": [
    "# You can also select a kernel for the notebook to use in the top right\n",
    "# For this workshop, we want to use the \"POSE-Workshop\" kernel, which has relevant modules installed"
   ]
  },
  {
   "cell_type": "markdown",
   "id": "6adc7797-55fe-4fc8-aa09-7e22583d7c3a",
   "metadata": {},
   "source": [
    "## Step 1: Importing Modules "
   ]
  },
  {
   "cell_type": "code",
   "execution_count": null,
   "id": "2b11f83d-deae-4acf-9ef0-c355f7db919b",
   "metadata": {},
   "outputs": [],
   "source": [
    "# We'll import the machine module to connect to the machine\n",
    "from science_jubilee.Machine import Machine"
   ]
  },
  {
   "cell_type": "code",
   "execution_count": null,
   "id": "4db6ba62-5e46-4943-becd-ae2d63e98c60",
   "metadata": {},
   "outputs": [],
   "source": [
    "# That's all we need for now!"
   ]
  },
  {
   "cell_type": "markdown",
   "id": "95b4f3ab-1ba3-44a6-a445-378fa4c76499",
   "metadata": {},
   "source": [
    "## Step 2: Connecting to the Machine"
   ]
  },
  {
   "cell_type": "code",
   "execution_count": null,
   "id": "7c67d67d-d565-4193-9cbe-83792259eb89",
   "metadata": {},
   "outputs": [],
   "source": [
    "# We can connect to the machine using its IP address\n",
    "# By default, that's 192.168.1.2\n",
    "m = Machine(address=\"192.168.1.2\")"
   ]
  },
  {
   "cell_type": "code",
   "execution_count": null,
   "id": "a0f0c86b-05f8-46b2-b197-153e2043933d",
   "metadata": {},
   "outputs": [],
   "source": [
    "# If there were no errors, we're connected!\n",
    "# The machine has some useful info\n",
    "# For example, we can check if the machine is currently homed\n",
    "m.axes_homed"
   ]
  },
  {
   "cell_type": "code",
   "execution_count": null,
   "id": "7fdbf8e5-2466-4d5b-87f7-2518d372806a",
   "metadata": {},
   "outputs": [],
   "source": [
    "# If your machine isn't homed yet, run the following cell!\n",
    "# Make sure theres nothing on the bed plate."
   ]
  },
  {
   "cell_type": "code",
   "execution_count": null,
   "id": "8d54acdb-3380-4c78-906b-b937ad08e199",
   "metadata": {},
   "outputs": [],
   "source": [
    "m.home_all()"
   ]
  },
  {
   "cell_type": "markdown",
   "id": "5a4b3a65-bd2f-4dac-af71-275c460ce91c",
   "metadata": {},
   "source": [
    "## Step 3: Moving Around"
   ]
  },
  {
   "cell_type": "code",
   "execution_count": null,
   "id": "e317f2a2-382d-4ebe-8768-3ce2206b37b8",
   "metadata": {},
   "outputs": [],
   "source": [
    "# The Jubilee axes look like this,\n",
    "# with positive z moving the bed downwards:"
   ]
  },
  {
   "cell_type": "markdown",
   "id": "590ea622-b4b4-45ec-a992-a0ea9fe7252e",
   "metadata": {},
   "source": [
    "![jubilee coordinates](https://machineagency.github.io/science_jubilee/_images/jubilee-coordinates.jpg)"
   ]
  },
  {
   "cell_type": "code",
   "execution_count": null,
   "id": "bacd426d-6623-4fac-867c-35766d4fcc3c",
   "metadata": {},
   "outputs": [],
   "source": [
    "# The machine is about 300mm x 300mm x 300mm\n",
    "# We can move to an absolute position with the move_to command\n",
    "m.move_to(x=100, y=100, z=100)"
   ]
  },
  {
   "cell_type": "code",
   "execution_count": null,
   "id": "638ef4d3-b9fa-49e1-a864-088c93e44b7a",
   "metadata": {},
   "outputs": [],
   "source": [
    "# or we can move relative to our current position with the move command:\n",
    "m.move(dx=10, dy=10)"
   ]
  },
  {
   "cell_type": "code",
   "execution_count": null,
   "id": "92fd36f2-5440-4c3c-a4f4-621c4f1afdff",
   "metadata": {},
   "outputs": [],
   "source": [
    "# we should have ended up at (110, 110, 100) after the last command\n",
    "# which we can check by getting the current position:\n",
    "m.get_position()"
   ]
  },
  {
   "cell_type": "markdown",
   "id": "f0832650-e421-4b5f-8301-66699b6974e5",
   "metadata": {},
   "source": [
    "## Step 4: Using Tools"
   ]
  },
  {
   "cell_type": "code",
   "execution_count": null,
   "id": "4cf6053c-9380-44a7-ba41-d0fcbf8d1867",
   "metadata": {},
   "outputs": [],
   "source": [
    "# To use a tool, we need to import the associated Python module\n",
    "# These all follow the format: from science_jubilee.tools.<tool_name> import <tool_name>\n",
    "# For a camera tool:\n",
    "from science_jubilee.tools.Camera import Camera"
   ]
  },
  {
   "cell_type": "code",
   "execution_count": null,
   "id": "eba3fe0c-6614-4c80-94a5-82a0d8e1a2bc",
   "metadata": {},
   "outputs": [],
   "source": [
    "# Then we can instantiate a new tool with an index & name and load it on the machine\n",
    "# Note that we need to match the tool number with the actual index of the tool on the machine!\n",
    "# Indices start at 0\n",
    "\n",
    "# Change the following values!\n",
    "camera = Camera(<your_camera_index>, \"<your_human_readable_name\")\n",
    "\n",
    "# Then we can load it onto the machine to use!\n",
    "m.load_tool(camera)"
   ]
  },
  {
   "cell_type": "code",
   "execution_count": null,
   "id": "e581a4ed-5ad1-4b7b-b3cb-66285b3eb447",
   "metadata": {},
   "outputs": [],
   "source": [
    "# Now we can pick the camera up!\n",
    "# To do this, we can use the camera variable, the index, or the name we gave it\n",
    "m.pickup_tool(camera) # or m.pickup_tool(<index>) or m.pickup_tool('<name>')"
   ]
  },
  {
   "cell_type": "code",
   "execution_count": null,
   "id": "ec50f7e4-d9b4-4e94-8df3-091658c4b645",
   "metadata": {},
   "outputs": [],
   "source": [
    "# You'll notice the bed dropped down automatically before picking up the tool\n",
    "# This is to accommodate tools of different heights\n",
    "# and is calibrated manually. "
   ]
  },
  {
   "cell_type": "code",
   "execution_count": null,
   "id": "3e2b6db7-9437-4bf2-a4c9-aed8d28108bc",
   "metadata": {},
   "outputs": [],
   "source": [
    "# We can move around as usual\n",
    "m.move_to(x=200, y=200)"
   ]
  },
  {
   "cell_type": "markdown",
   "id": "ff5ed65e-41e4-4ba0-abfc-09e2f77793a1",
   "metadata": {},
   "source": [
    "## Step 5: Add Another Tool"
   ]
  },
  {
   "cell_type": "code",
   "execution_count": null,
   "id": "afb8eb5c-944a-403f-98c1-994a71ad77be",
   "metadata": {},
   "outputs": [],
   "source": [
    "# Now try adding another tool on your machine!"
   ]
  },
  {
   "cell_type": "code",
   "execution_count": null,
   "id": "cd0e8adc-e1f1-4079-9159-649815effa26",
   "metadata": {},
   "outputs": [],
   "source": [
    "# First add the relevant import statement:\n",
    "\n"
   ]
  },
  {
   "cell_type": "code",
   "execution_count": null,
   "id": "fa802aac-9739-4647-acba-03da7384fd40",
   "metadata": {},
   "outputs": [],
   "source": [
    "# Then instantiate + load the tool on the machine:\n",
    "\n"
   ]
  },
  {
   "cell_type": "code",
   "execution_count": null,
   "id": "4aaa61ae-dfae-4e29-b7d1-69e81b611677",
   "metadata": {},
   "outputs": [],
   "source": [
    "# Then pick it up!\n",
    "# If you're trying to pickup a tool and already have one active,\n",
    "# The machine will automatically park the current tool befre getting the next one"
   ]
  },
  {
   "cell_type": "code",
   "execution_count": null,
   "id": "1cc1528a-1334-4480-8961-d8d2cde4c5b1",
   "metadata": {},
   "outputs": [],
   "source": [
    "# When you're done, you can park the tool\n",
    "m.park_tool()"
   ]
  }
 ],
 "metadata": {
  "kernelspec": {
   "display_name": "blubilee-sj-test",
   "language": "python",
   "name": "blubilee-sj-test"
  },
  "language_info": {
   "codemirror_mode": {
    "name": "ipython",
    "version": 3
   },
   "file_extension": ".py",
   "mimetype": "text/x-python",
   "name": "python",
   "nbconvert_exporter": "python",
   "pygments_lexer": "ipython3",
   "version": "3.8.9"
  }
 },
 "nbformat": 4,
 "nbformat_minor": 5
}
